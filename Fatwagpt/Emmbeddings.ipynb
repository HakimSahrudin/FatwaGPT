{
 "cells": [
  {
   "cell_type": "code",
   "execution_count": 1,
   "metadata": {},
   "outputs": [],
   "source": [
    "import openai\n",
    "import pandas as pd\n",
    "import tiktoken\n",
    "\n",
    "# Initialize OpenAI API key\n",
    "openai.api_key = ''  # Use your OpenAI API key\n",
    "\n",
    "# Function to get embeddings\n",
    "def get_embedding(text, model=\"text-embedding-ada-002\"):\n",
    "    response = openai.Embedding.create(input=[text], model=model)\n",
    "    return response['data'][0]['embedding']\n",
    "\n",
    "embedding_model = \"text-embedding-ada-002\"\n",
    "embedding_encoding = \"cl100k_base\"\n",
    "max_tokens = 8100  # the maximum for text-embedding-ada-002 is 8191"
   ]
  },
  {
   "cell_type": "code",
   "execution_count": 2,
   "metadata": {},
   "outputs": [],
   "source": [
    "# Load & inspect dataset\n",
    "input_datapath = r'C:\\Users\\moonl\\Documents\\Fatwagpt\\Fatwa.csv'\n",
    "df = pd.read_csv(input_datapath)\n",
    "df = df.dropna()\n",
    "\n"
   ]
  },
  {
   "cell_type": "code",
   "execution_count": 3,
   "metadata": {},
   "outputs": [
    {
     "name": "stdout",
     "output_type": "stream",
     "text": [
      "                                             Content\n",
      "0  Soalan : Apakah definisi Tauhid?\\nJawapan:\\nPe...\n",
      "1  Soalan : Nyatakan maksud Qada’ dan Qadar?\\nJaw...\n"
     ]
    }
   ],
   "source": [
    "\n",
    "# Print first few rows to inspect\n",
    "print(df.head(2))\n"
   ]
  },
  {
   "cell_type": "code",
   "execution_count": 4,
   "metadata": {},
   "outputs": [],
   "source": [
    "# Check the content\n",
    "df[\"combined\"] = df[\"Content\"].apply(lambda x: x.strip())"
   ]
  },
  {
   "cell_type": "code",
   "execution_count": 5,
   "metadata": {},
   "outputs": [],
   "source": [
    "# Tokenize the text and omit reviews that are too long to embed\n",
    "encoding = tiktoken.get_encoding(embedding_encoding)\n",
    "df[\"n_tokens\"] = df[\"combined\"].apply(lambda x: len(encoding.encode(x)))\n",
    "df = df[df[\"n_tokens\"] <= max_tokens]"
   ]
  },
  {
   "cell_type": "code",
   "execution_count": 6,
   "metadata": {},
   "outputs": [
    {
     "name": "stdout",
     "output_type": "stream",
     "text": [
      "813\n"
     ]
    }
   ],
   "source": [
    "# Print the length of the dataframe after filtering\n",
    "print(len(df))"
   ]
  },
  {
   "cell_type": "code",
   "execution_count": 8,
   "metadata": {},
   "outputs": [
    {
     "name": "stdout",
     "output_type": "stream",
     "text": [
      "813\n",
      "Embeddings have been generated and saved to C:\\Users\\moonl\\Documents\\Fatwagpt\\Fatwa_with_embeddings1.csv\n"
     ]
    }
   ],
   "source": [
    "# Print the length of the dataframe after filtering\n",
    "print(len(df))\n",
    "\n",
    "# Get embeddings and save them for future reuse\n",
    "df[\"embedding\"] = df[\"combined\"].apply(lambda x: get_embedding(x, model=embedding_model))\n",
    "\n",
    "output_file_path = r'C:\\Users\\moonl\\Documents\\Fatwagpt\\Fatwa_with_embeddings1.csv'\n",
    "df.to_csv(output_file_path, index=False)\n",
    "\n",
    "print(\"Embeddings have been generated and saved to\", output_file_path)"
   ]
  }
 ],
 "metadata": {
  "kernelspec": {
   "display_name": "Python 3",
   "language": "python",
   "name": "python3"
  },
  "language_info": {
   "codemirror_mode": {
    "name": "ipython",
    "version": 3
   },
   "file_extension": ".py",
   "mimetype": "text/x-python",
   "name": "python",
   "nbconvert_exporter": "python",
   "pygments_lexer": "ipython3",
   "version": "3.12.4"
  }
 },
 "nbformat": 4,
 "nbformat_minor": 2
}
